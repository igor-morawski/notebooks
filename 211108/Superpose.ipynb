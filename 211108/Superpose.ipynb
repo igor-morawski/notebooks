{
 "cells": [
  {
   "cell_type": "code",
   "execution_count": 50,
   "id": "0f0321b3",
   "metadata": {},
   "outputs": [],
   "source": [
    "import ipyplot\n",
    "%matplotlib notebook\n",
    "import matplotlib.pyplot as plt\n",
    "\n",
    "import rawpy \n",
    "import cv2\n",
    "import numpy as np\n",
    "\n",
    "\n",
    "import os\n",
    "import os.path as op\n",
    "\n",
    "\n",
    "data_dir = op.join(\"..\", \"data\")\n",
    "img_name = \"DSC01088\"\n",
    "raw_fp = op.join(data_dir, img_name+\".ARW\")\n",
    "\n",
    "assert op.exists(raw_fp)"
   ]
  },
  {
   "cell_type": "code",
   "execution_count": 81,
   "id": "dbe42250",
   "metadata": {},
   "outputs": [],
   "source": [
    "raw = rawpy.imread(raw_fp)\n",
    "\n",
    "a = raw.postprocess(half_size=True, no_auto_bright=True, no_auto_scale=True, output_color=rawpy.ColorSpace.raw, output_bps=16)[:,:,1].copy()/2**16\n",
    "b = raw.postprocess(half_size=True, no_auto_bright=True, no_auto_scale=True, output_color=rawpy.ColorSpace.raw, output_bps=16)[:,:,1].copy()/2**16"
   ]
  },
  {
   "cell_type": "code",
   "execution_count": 82,
   "id": "8d23c515",
   "metadata": {},
   "outputs": [],
   "source": [
    "def superpose(img, bins_n):\n",
    "    ref = img.copy()\n",
    "    t_mins = [b*1/bins_n for b in range(bins_n)]\n",
    "    t_maxs = [b*1/bins_n for b in range(1,bins_n+1)]\n",
    "    t_maxs[-1] += 1e-6\n",
    "    for t_min, t_max in zip(t_mins, t_maxs):\n",
    "        idx = np.where(np.logical_and(ref>=t_min, ref<t_max))\n",
    "        img[idx] = (img[idx] - t_min) / (t_max - t_min)\n",
    "    return img"
   ]
  },
  {
   "cell_type": "code",
   "execution_count": 83,
   "id": "3a4f2b2d",
   "metadata": {},
   "outputs": [
    {
     "data": {
      "text/plain": [
       "0.9997253417968751"
      ]
     },
     "execution_count": 83,
     "metadata": {},
     "output_type": "execute_result"
    }
   ],
   "source": [
    "result=superpose(b,10)\n",
    "result.max()"
   ]
  },
  {
   "cell_type": "code",
   "execution_count": 84,
   "id": "d454aa7b",
   "metadata": {},
   "outputs": [
    {
     "data": {
      "text/plain": [
       "(array([4.87633708, 0.10393279, 0.01973013, 0.        ]),\n",
       " array([0. , 0.2, 0.4, 0.6, 0.8]))"
      ]
     },
     "execution_count": 84,
     "metadata": {},
     "output_type": "execute_result"
    }
   ],
   "source": [
    "np.histogram(a, bins=[b*1/5 for b in range(5)], density=True)"
   ]
  },
  {
   "cell_type": "code",
   "execution_count": 85,
   "id": "1e1200ca",
   "metadata": {},
   "outputs": [
    {
     "data": {
      "text/plain": [
       "(array([3.01201641, 0.80498256, 0.68278036, 0.50022068]),\n",
       " array([0. , 0.2, 0.4, 0.6, 0.8]))"
      ]
     },
     "execution_count": 85,
     "metadata": {},
     "output_type": "execute_result"
    }
   ],
   "source": [
    "np.histogram(result, bins=[b*1/5 for b in range(5)], density=True)"
   ]
  },
  {
   "cell_type": "code",
   "execution_count": 86,
   "id": "71cd7efe",
   "metadata": {},
   "outputs": [
    {
     "data": {
      "text/plain": [
       "True"
      ]
     },
     "execution_count": 86,
     "metadata": {},
     "output_type": "execute_result"
    }
   ],
   "source": [
    "cv2.imwrite(\"a.jpg\", a*255)\n",
    "cv2.imwrite(\"result.jpg\", result*255)"
   ]
  },
  {
   "cell_type": "code",
   "execution_count": null,
   "id": "f50c257c",
   "metadata": {},
   "outputs": [],
   "source": []
  },
  {
   "cell_type": "code",
   "execution_count": null,
   "id": "25adcda7",
   "metadata": {},
   "outputs": [],
   "source": []
  }
 ],
 "metadata": {
  "kernelspec": {
   "display_name": "Python 3 (ipykernel)",
   "language": "python",
   "name": "python3"
  },
  "language_info": {
   "codemirror_mode": {
    "name": "ipython",
    "version": 3
   },
   "file_extension": ".py",
   "mimetype": "text/x-python",
   "name": "python",
   "nbconvert_exporter": "python",
   "pygments_lexer": "ipython3",
   "version": "3.7.0"
  }
 },
 "nbformat": 4,
 "nbformat_minor": 5
}
