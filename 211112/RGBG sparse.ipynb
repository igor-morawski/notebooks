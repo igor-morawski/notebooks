{
 "cells": [
  {
   "cell_type": "code",
   "execution_count": 2,
   "id": "b7a865c7",
   "metadata": {},
   "outputs": [],
   "source": [
    "import ipyplot\n",
    "%matplotlib notebook\n",
    "import matplotlib.pyplot as plt\n",
    "\n",
    "import rawpy \n",
    "import cv2\n",
    "import numpy as np\n",
    "\n",
    "\n",
    "import os\n",
    "import os.path as op\n",
    "\n",
    "\n",
    "data_dir = op.join(\"..\", \"data\")\n",
    "img_name = \"DSC01088\"\n",
    "raw_fp = op.join(data_dir, img_name+\".ARW\")\n",
    "\n",
    "assert op.exists(raw_fp)"
   ]
  },
  {
   "cell_type": "code",
   "execution_count": 8,
   "id": "64f69724",
   "metadata": {},
   "outputs": [
    {
     "name": "stdout",
     "output_type": "stream",
     "text": [
      "(1836, 2748)\n"
     ]
    }
   ],
   "source": [
    "raw = rawpy.imread(raw_fp)\n",
    "\n",
    "mono = raw.postprocess(half_size=True, no_auto_bright=True, no_auto_scale=True, output_color=rawpy.ColorSpace.raw, output_bps=16)[:,:,1].copy()/2**16\n",
    "print(mono.shape)"
   ]
  },
  {
   "cell_type": "code",
   "execution_count": 6,
   "id": "7634f934",
   "metadata": {},
   "outputs": [],
   "source": [
    "image = np.expand_dims(mono, -1)\n",
    "H, W = image.shape[:2]\n",
    "packed = np.concatenate((image[0:H:2, 0:W:2, :],           # R\n",
    "                              image[0:H:2, 1:W:2, :],           # GR\n",
    "                              image[1:H:2, 0:W:2, :],           # GB\n",
    "                              image[1:H:2, 1:W:2, :]), axis=2)  # B"
   ]
  },
  {
   "cell_type": "code",
   "execution_count": 7,
   "id": "2a5688c6",
   "metadata": {},
   "outputs": [
    {
     "name": "stdout",
     "output_type": "stream",
     "text": [
      "(918, 1374, 4)\n"
     ]
    }
   ],
   "source": [
    "print(packed.shape)"
   ]
  },
  {
   "cell_type": "code",
   "execution_count": 19,
   "id": "7ee5fac0",
   "metadata": {},
   "outputs": [
    {
     "name": "stdout",
     "output_type": "stream",
     "text": [
      "(1836, 2748, 3)\n"
     ]
    }
   ],
   "source": [
    "def mono2sparse_rgbg(image):\n",
    "    H, W = image.shape[:2]\n",
    "    sparse = np.zeros([H,W,3], dtype=image.dtype)\n",
    "    sparse[0:H:2, 0:W:2, 0] = image[0:H:2, 0:W:2, 0] # R\n",
    "    sparse[0:H:2, 1:W:2, 1] = image[0:H:2, 1:W:2, 0] # GR\n",
    "    sparse[1:H:2, 0:W:2, 1] = image[1:H:2, 0:W:2, 0] # GB\n",
    "    sparse[1:H:2, 1:W:2, 2] = image[1:H:2, 1:W:2, 0] # B\n",
    "    return sparse\n",
    "sparse = mono2sparse_rgbg(image)\n",
    "print(sparse.shape)"
   ]
  },
  {
   "cell_type": "code",
   "execution_count": 24,
   "id": "6717e0c0",
   "metadata": {},
   "outputs": [
    {
     "name": "stdout",
     "output_type": "stream",
     "text": [
      "[[[0.00494385]\n",
      "  [0.01222229]\n",
      "  [0.00727844]]\n",
      "\n",
      " [[0.01963806]\n",
      "  [0.00054932]\n",
      "  [0.00343323]]\n",
      "\n",
      " [[0.00590515]\n",
      "  [0.00549316]\n",
      "  [0.01812744]]]\n",
      "[[0.00494385 0.         0.00727844]\n",
      " [0.         0.         0.        ]\n",
      " [0.00590515 0.         0.01812744]]\n",
      "[[0.         0.01222229 0.        ]\n",
      " [0.01963806 0.         0.00343323]\n",
      " [0.         0.00549316 0.        ]]\n",
      "[[0.         0.         0.        ]\n",
      " [0.         0.00054932 0.        ]\n",
      " [0.         0.         0.        ]]\n"
     ]
    }
   ],
   "source": [
    "print(image[0:3, 0:3])\n",
    "print(sparse[0:3, 0:3, 0])\n",
    "print(sparse[0:3, 0:3, 1])\n",
    "print(sparse[0:3, 0:3, 2])"
   ]
  },
  {
   "cell_type": "code",
   "execution_count": 35,
   "id": "0d3e65c4",
   "metadata": {},
   "outputs": [
    {
     "name": "stdout",
     "output_type": "stream",
     "text": [
      "(918, 1374) (918, 1374)\n",
      "(1836, 2748, 3)\n"
     ]
    }
   ],
   "source": [
    "def packed2sparse_rgbg(image):\n",
    "    _H, _W, C = image.shape\n",
    "    H, W = 2*_H, 2*_W\n",
    "    sparse = np.zeros([H,W,3], dtype=image.dtype)\n",
    "    print(sparse[0:H:2, 0:W:2, 0].shape, image[:, :, 0].shape)\n",
    "    sparse[0:H:2, 0:W:2, 0] = image[:, :, 0] # R\n",
    "    sparse[0:H:2, 1:W:2, 1] = image[:, :, 1] # GR\n",
    "    sparse[1:H:2, 0:W:2, 1] = image[:, :, 2] # GB\n",
    "    sparse[1:H:2, 1:W:2, 2] = image[:, :, 3] # B\n",
    "    return sparse\n",
    "sparse = packed2sparse_rgbg(packed)\n",
    "print(sparse.shape)"
   ]
  },
  {
   "cell_type": "code",
   "execution_count": 40,
   "id": "2f29e76c",
   "metadata": {},
   "outputs": [
    {
     "name": "stdout",
     "output_type": "stream",
     "text": [
      "16\n",
      "20\n",
      "49\n"
     ]
    }
   ],
   "source": [
    "print((sparse[0:7, 0:7, 0] > 0).sum())\n",
    "print((sparse[0:7, 0:7, 1] > 0).sum())\n",
    "print((sparse[0:7, 0:7, 1] > float(\"-INF\")).sum())\n"
   ]
  },
  {
   "cell_type": "code",
   "execution_count": null,
   "id": "ede72f95",
   "metadata": {},
   "outputs": [],
   "source": []
  }
 ],
 "metadata": {
  "kernelspec": {
   "display_name": "Python 3 (ipykernel)",
   "language": "python",
   "name": "python3"
  },
  "language_info": {
   "codemirror_mode": {
    "name": "ipython",
    "version": 3
   },
   "file_extension": ".py",
   "mimetype": "text/x-python",
   "name": "python",
   "nbconvert_exporter": "python",
   "pygments_lexer": "ipython3",
   "version": "3.7.0"
  }
 },
 "nbformat": 4,
 "nbformat_minor": 5
}
